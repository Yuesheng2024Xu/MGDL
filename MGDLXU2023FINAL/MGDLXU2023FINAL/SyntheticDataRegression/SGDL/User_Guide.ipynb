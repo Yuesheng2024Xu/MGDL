{
 "cells": [
  {
   "cell_type": "markdown",
   "id": "3534b23f-a568-4ad4-8ae8-f71a83c34d95",
   "metadata": {},
   "source": [
    "# Guidance for syhthetic data regression via SGDL (Section 7.1)"
   ]
  },
  {
   "cell_type": "markdown",
   "id": "9def60a9-b791-4ac1-a69c-1a8b92448042",
   "metadata": {},
   "source": [
    "## Data descriptions\n",
    "We create a seperate file 'data_generate.py' to generate data for example 1, 2, 3.  Readers can dive in this file to see how the data are generated."
   ]
  },
  {
   "cell_type": "markdown",
   "id": "95a5eb92-2d0f-474d-a1f6-c955453bb42b",
   "metadata": {},
   "source": [
    "## Training and testing models \n",
    "We create the seperate 'main_run.py' for training models. In this file, there are several parameters need to be setted. Readers can set different parameter to set the performance"
   ]
  },
  {
   "cell_type": "markdown",
   "id": "46c50cb8-9e56-491b-877d-b69f61160fb3",
   "metadata": {},
   "source": [
    "##### Training MGDL model by readers\n",
    "If readers prefer to train the model themselves, they can utilize the following code and the results will be save in the folder 'results'"
   ]
  },
  {
   "cell_type": "code",
   "execution_count": 7,
   "id": "5a8fa178-a4f1-41d0-bfb4-41241cf46246",
   "metadata": {
    "tags": []
   },
   "outputs": [
    {
     "name": "stdout",
     "output_type": "stream",
     "text": [
      "The autoreload extension is already loaded. To reload it, use:\n",
      "  %reload_ext autoreload\n",
      "------------------we use xavier initialize-------------------\n",
      "------------------we use xavier initialize-------------------\n",
      "------------------we use xavier initialize-------------------\n",
      "------------------we use xavier initialize-------------------\n",
      "------------------we use xavier initialize-------------------\n",
      "------------------we use xavier initialize-------------------\n",
      "------------------we use xavier initialize-------------------\n",
      "------------------we use xavier initialize-------------------\n",
      "------------------we use xavier initialize-------------------\n"
     ]
    }
   ],
   "source": [
    "%matplotlib inline\n",
    "%load_ext autoreload\n",
    "%autoreload 2\n",
    "%run main_run.py"
   ]
  },
  {
   "cell_type": "markdown",
   "id": "1d01e024-ec6e-4492-ae34-e5e615832c39",
   "metadata": {},
   "source": [
    "### analysis results\n",
    "We also create a seperate 'analysis.py' to analysis and test our trained model."
   ]
  },
  {
   "cell_type": "code",
   "execution_count": 6,
   "id": "3c8bd0a9-4a97-4a0d-aa8a-a96ef7214e89",
   "metadata": {
    "tags": []
   },
   "outputs": [
    {
     "name": "stdout",
     "output_type": "stream",
     "text": [
      "example1\n"
     ]
    },
    {
     "ename": "AttributeError",
     "evalue": "'str' object has no attribute 'ntrain'",
     "output_type": "error",
     "traceback": [
      "\u001b[0;31m---------------------------------------------------------------------------\u001b[0m",
      "\u001b[0;31mAttributeError\u001b[0m                            Traceback (most recent call last)",
      "\u001b[0;32m/tmp/ipykernel_3196314/818356569.py\u001b[0m in \u001b[0;36m<module>\u001b[0;34m\u001b[0m\n\u001b[1;32m      7\u001b[0m \u001b[0mpath\u001b[0m \u001b[0;34m=\u001b[0m \u001b[0;34m'results/{}/noise{}/*.pickle'\u001b[0m\u001b[0;34m.\u001b[0m\u001b[0mformat\u001b[0m\u001b[0;34m(\u001b[0m\u001b[0mexample\u001b[0m\u001b[0;34m,\u001b[0m \u001b[0mnoise\u001b[0m\u001b[0;34m)\u001b[0m\u001b[0;34m\u001b[0m\u001b[0;34m\u001b[0m\u001b[0m\n\u001b[1;32m      8\u001b[0m \u001b[0;32mfor\u001b[0m \u001b[0mfile\u001b[0m \u001b[0;32min\u001b[0m \u001b[0mglob\u001b[0m\u001b[0;34m.\u001b[0m\u001b[0mglob\u001b[0m\u001b[0;34m(\u001b[0m\u001b[0mpath\u001b[0m\u001b[0;34m)\u001b[0m\u001b[0;34m:\u001b[0m\u001b[0;34m\u001b[0m\u001b[0;34m\u001b[0m\u001b[0m\n\u001b[0;32m----> 9\u001b[0;31m     \u001b[0mresults_analysis\u001b[0m\u001b[0;34m(\u001b[0m\u001b[0mfile\u001b[0m\u001b[0;34m,\u001b[0m \u001b[0mexample\u001b[0m\u001b[0;34m)\u001b[0m\u001b[0;34m\u001b[0m\u001b[0;34m\u001b[0m\u001b[0m\n\u001b[0m",
      "\u001b[0;32m~/MGDLXU2023/MGDLXU2023FINAL/SyntheticDataRegression/SGDL/analysis.py\u001b[0m in \u001b[0;36mresults_analysis\u001b[0;34m(fullfilename, example)\u001b[0m\n\u001b[1;32m     28\u001b[0m \u001b[0;34m\u001b[0m\u001b[0m\n\u001b[1;32m     29\u001b[0m     \u001b[0;32mif\u001b[0m \u001b[0mexample\u001b[0m \u001b[0;34m==\u001b[0m \u001b[0;34m'example1'\u001b[0m\u001b[0;34m:\u001b[0m\u001b[0;34m\u001b[0m\u001b[0;34m\u001b[0m\u001b[0m\n\u001b[0;32m---> 30\u001b[0;31m         \u001b[0mdata\u001b[0m \u001b[0;34m=\u001b[0m \u001b[0mexample1\u001b[0m\u001b[0;34m(\u001b[0m\u001b[0mopt\u001b[0m\u001b[0;34m)\u001b[0m\u001b[0;34m\u001b[0m\u001b[0;34m\u001b[0m\u001b[0m\n\u001b[0m\u001b[1;32m     31\u001b[0m     \u001b[0;32melif\u001b[0m \u001b[0mexample\u001b[0m \u001b[0;34m==\u001b[0m \u001b[0;34m'example2'\u001b[0m\u001b[0;34m:\u001b[0m\u001b[0;34m\u001b[0m\u001b[0;34m\u001b[0m\u001b[0m\n\u001b[1;32m     32\u001b[0m         \u001b[0mdata\u001b[0m \u001b[0;34m=\u001b[0m \u001b[0mexample2\u001b[0m\u001b[0;34m(\u001b[0m\u001b[0mopt\u001b[0m\u001b[0;34m)\u001b[0m\u001b[0;34m\u001b[0m\u001b[0;34m\u001b[0m\u001b[0m\n",
      "\u001b[0;32m~/MGDLXU2023/MGDLXU2023FINAL/SyntheticDataRegression/SGDL/data_generate.py\u001b[0m in \u001b[0;36mexample1\u001b[0;34m(opt)\u001b[0m\n\u001b[1;32m     16\u001b[0m \u001b[0;34m\u001b[0m\u001b[0m\n\u001b[1;32m     17\u001b[0m     \u001b[0;31m#--------------train data----------------------\u001b[0m\u001b[0;34m\u001b[0m\u001b[0;34m\u001b[0m\u001b[0;34m\u001b[0m\u001b[0m\n\u001b[0;32m---> 18\u001b[0;31m     \u001b[0mtrain_X\u001b[0m \u001b[0;34m=\u001b[0m \u001b[0mnp\u001b[0m\u001b[0;34m.\u001b[0m\u001b[0mlinspace\u001b[0m\u001b[0;34m(\u001b[0m\u001b[0;36m0\u001b[0m\u001b[0;34m,\u001b[0m \u001b[0;36m1\u001b[0m\u001b[0;34m,\u001b[0m  \u001b[0mopt\u001b[0m\u001b[0;34m.\u001b[0m\u001b[0mntrain\u001b[0m\u001b[0;34m)\u001b[0m\u001b[0;34m\u001b[0m\u001b[0;34m\u001b[0m\u001b[0m\n\u001b[0m\u001b[1;32m     19\u001b[0m     \u001b[0;32mif\u001b[0m \u001b[0mopt\u001b[0m\u001b[0;34m.\u001b[0m\u001b[0mnoise\u001b[0m\u001b[0;34m:\u001b[0m\u001b[0;34m\u001b[0m\u001b[0;34m\u001b[0m\u001b[0m\n\u001b[1;32m     20\u001b[0m         \u001b[0men\u001b[0m \u001b[0;34m=\u001b[0m \u001b[0mnp\u001b[0m\u001b[0;34m.\u001b[0m\u001b[0mrandom\u001b[0m\u001b[0;34m.\u001b[0m\u001b[0mnormal\u001b[0m\u001b[0;34m(\u001b[0m\u001b[0;36m0\u001b[0m\u001b[0;34m,\u001b[0m \u001b[0;36m0.05\u001b[0m\u001b[0;34m,\u001b[0m  \u001b[0mopt\u001b[0m\u001b[0;34m.\u001b[0m\u001b[0mntrain\u001b[0m\u001b[0;34m)\u001b[0m\u001b[0;34m\u001b[0m\u001b[0;34m\u001b[0m\u001b[0m\n",
      "\u001b[0;31mAttributeError\u001b[0m: 'str' object has no attribute 'ntrain'"
     ]
    }
   ],
   "source": [
    "import glob\n",
    "from analysis import results_analysis\n",
    "\n",
    "noise = 'False'\n",
    "example = 'example1'\n",
    "\n",
    "path = 'results/{}/noise{}/*.pickle'.format(example, noise) \n",
    "for file in glob.glob(path):\n",
    "    results_analysis(file, example) "
   ]
  },
  {
   "cell_type": "code",
   "execution_count": null,
   "id": "db312957-9daf-4452-809c-21c66bd90320",
   "metadata": {},
   "outputs": [],
   "source": []
  }
 ],
 "metadata": {
  "kernelspec": {
   "display_name": "Python 3 (ipykernel)",
   "language": "python",
   "name": "python3"
  },
  "language_info": {
   "codemirror_mode": {
    "name": "ipython",
    "version": 3
   },
   "file_extension": ".py",
   "mimetype": "text/x-python",
   "name": "python",
   "nbconvert_exporter": "python",
   "pygments_lexer": "ipython3",
   "version": "3.7.13"
  }
 },
 "nbformat": 4,
 "nbformat_minor": 5
}
